{
 "cells": [
  {
   "cell_type": "code",
   "execution_count": 15,
   "id": "1e8935ec-bf22-49fe-9537-d82f3b51dad4",
   "metadata": {},
   "outputs": [],
   "source": [
    "import os\n",
    "import dash\n",
    "from dash import  dcc,html\n",
    "import pandas as pd\n",
    "import plotly.graph_objs as go\n",
    "from dash.dependencies import Input, Output\n",
    "from keras.models import load_model\n",
    "from sklearn.preprocessing import MinMaxScaler\n",
    "import numpy as np\n"
   ]
  },
  {
   "cell_type": "code",
   "execution_count": 16,
   "id": "e4dd6bca-c708-418b-a5f8-ee8d0f062792",
   "metadata": {},
   "outputs": [
    {
     "name": "stdout",
     "output_type": "stream",
     "text": [
      "Loading existing model...\n"
     ]
    }
   ],
   "source": [
    "# Initialize Dash app\n",
    "app = dash.Dash()\n",
    "server = app.server\n",
    "\n",
    "# Load stock dataset\n",
    "df_nse = pd.read_csv(\"./nse.csv\")\n",
    "df_nse[\"Date\"] = pd.to_datetime(df_nse[\"Date\"], format=\"%Y-%m-%d\")\n",
    "df_nse.set_index(\"Date\", inplace=True)\n",
    "\n",
    "# Prepare data\n",
    "new_data = pd.DataFrame(df_nse[\"Close\"]).reset_index()\n",
    "dataset = new_data[\"Close\"].values.reshape(-1, 1)\n",
    "\n",
    "# Split data\n",
    "train_size = 987\n",
    "train, valid = dataset[:train_size], dataset[train_size:]\n",
    "\n",
    "# Scale data\n",
    "scaler = MinMaxScaler(feature_range=(0, 1))\n",
    "scaled_data = scaler.fit_transform(dataset)\n",
    "\n",
    "# Load or train model\n",
    "if os.path.exists(\"model.keras\"):\n",
    "    print(\"Loading existing model...\")\n",
    "    model = load_model(\"model.keras\")\n",
    "else:\n",
    "    print(\" Model file not found! Please train the model first.\")"
   ]
  },
  {
   "cell_type": "code",
   "execution_count": 17,
   "id": "6e398fd7-b01d-46bb-bddd-8ba8258ba1ee",
   "metadata": {},
   "outputs": [
    {
     "name": "stdout",
     "output_type": "stream",
     "text": [
      "\u001b[1m8/8\u001b[0m \u001b[32m━━━━━━━━━━━━━━━━━━━━\u001b[0m\u001b[37m\u001b[0m \u001b[1m1s\u001b[0m 68ms/step\n"
     ]
    }
   ],
   "source": [
    "# Prepare input for prediction using only the \"Close\" data\n",
    "inputs = dataset[len(dataset) - len(valid) - 60:]\n",
    "inputs = scaler.transform(inputs)\n",
    "\n",
    "X_test = []\n",
    "for i in range(60, inputs.shape[0]):\n",
    "    X_test.append(inputs[i-60:i, 0])\n",
    "\n",
    "X_test = np.array(X_test)\n",
    "X_test = np.reshape(X_test, (X_test.shape[0], X_test.shape[1], 1))\n",
    "\n",
    "# Predict closing prices\n",
    "closing_price = model.predict(X_test)\n",
    "closing_price = scaler.inverse_transform(closing_price)\n",
    "\n",
    "# Convert predictions to DataFrame\n",
    "valid = new_data.iloc[train_size:].copy()\n",
    "valid.loc[:, 'Predictions'] = closing_price"
   ]
  },
  {
   "cell_type": "code",
   "execution_count": 18,
   "id": "6cde22a1-adb7-41de-8e09-be7e48251d70",
   "metadata": {},
   "outputs": [],
   "source": [
    "# Load stock data for Facebook (ensure the file exists)\n",
    "if os.path.exists(\"./stock_data.csv\"):\n",
    "    df = pd.read_csv(\"./stock_data.csv\")\n",
    "else:\n",
    "    print(\"⚠️ stock_data.csv not found!\")\n"
   ]
  },
  {
   "cell_type": "code",
   "execution_count": 19,
   "id": "675aac5b-851c-45b5-8fef-9b5cb629242d",
   "metadata": {},
   "outputs": [],
   "source": [
    "# Dash Layout\n",
    "app.layout = html.Div([\n",
    "    html.H1(\"Stock Price Analysis Dashboard\", style={\"textAlign\": \"center\"}),\n",
    "\n",
    "    dcc.Tabs(id=\"tabs\", children=[\n",
    "        dcc.Tab(label='NSE-TATAGLOBAL Stock Data', children=[\n",
    "            html.Div([\n",
    "                html.H2(\"Actual closing price\", style={\"textAlign\": \"center\"}),\n",
    "                dcc.Graph(\n",
    "                    id=\"Actual Data\",\n",
    "                    figure={\n",
    "                        \"data\": [\n",
    "                            go.Scatter(\n",
    "                                x=valid.index,\n",
    "                                y=valid[\"Close\"],\n",
    "                                mode='markers'\n",
    "                            )\n",
    "                        ],\n",
    "                        \"layout\": go.Layout(\n",
    "                            title='Scatter Plot',\n",
    "                            xaxis={'title': 'Date'},\n",
    "                            yaxis={'title': 'Closing Rate'}\n",
    "                        )\n",
    "                    }\n",
    "                ),\n",
    "                html.H2(\"LSTM Predicted closing price\", style={\"textAlign\": \"center\"}),\n",
    "                dcc.Graph(\n",
    "                    id=\"Predicted Data\",\n",
    "                    figure={\n",
    "                        \"data\": [\n",
    "                            go.Scatter(\n",
    "                                x=valid.index,\n",
    "                                y=valid[\"Predictions\"],\n",
    "                                mode='markers'\n",
    "                            )\n",
    "                        ],\n",
    "                        \"layout\": go.Layout(\n",
    "                            title='Scatter Plot',\n",
    "                            xaxis={'title': 'Date'},\n",
    "                            yaxis={'title': 'Closing Rate'}\n",
    "                        )\n",
    "                    }\n",
    "                )\n",
    "            ])\n",
    "        ]),\n",
    "\n",
    "        dcc.Tab(label='Facebook Stock Data', children=[\n",
    "            html.Div([\n",
    "                html.H1(\"Facebook Stocks High vs Lows\", style={'textAlign': 'center'}),\n",
    "                dcc.Dropdown(id='my-dropdown',\n",
    "                             options=[{'label': 'Tesla', 'value': 'TSLA'},\n",
    "                                      {'label': 'Apple', 'value': 'AAPL'},\n",
    "                                      {'label': 'Facebook', 'value': 'FB'},\n",
    "                                      {'label': 'Microsoft', 'value': 'MSFT'}],\n",
    "                             multi=True, value=['FB'],\n",
    "                             style={\"display\": \"block\", \"margin-left\": \"auto\",\n",
    "                                    \"margin-right\": \"auto\", \"width\": \"60%\"}),\n",
    "                dcc.Graph(id='highlow'),\n",
    "\n",
    "                html.H1(\"Facebook Market Volume\", style={'textAlign': 'center'}),\n",
    "                dcc.Dropdown(id='my-dropdown2',\n",
    "                             options=[{'label': 'Tesla', 'value': 'TSLA'},\n",
    "                                      {'label': 'Apple', 'value': 'AAPL'},\n",
    "                                      {'label': 'Facebook', 'value': 'FB'},\n",
    "                                      {'label': 'Microsoft', 'value': 'MSFT'}],\n",
    "                             multi=True, value=['FB'],\n",
    "                             style={\"display\": \"block\", \"margin-left\": \"auto\",\n",
    "                                    \"margin-right\": \"auto\", \"width\": \"60%\"}),\n",
    "                dcc.Graph(id='volume')\n",
    "            ], className=\"container\"),\n",
    "        ])\n",
    "    ])\n",
    "])"
   ]
  },
  {
   "cell_type": "code",
   "execution_count": 20,
   "id": "1d9a197d-fcfe-46fa-8309-111eb70c4cf2",
   "metadata": {},
   "outputs": [],
   "source": [
    "# Callback for the high/low stock graph\n",
    "@app.callback(Output('highlow', 'figure'), [Input('my-dropdown', 'value')])\n",
    "def update_graph(selected_dropdown):\n",
    "    dropdown = {\"TSLA\": \"Tesla\", \"AAPL\": \"Apple\", \"FB\": \"Facebook\", \"MSFT\": \"Microsoft\"}\n",
    "    trace1, trace2 = [], []\n",
    "\n",
    "    for stock in selected_dropdown:\n",
    "        trace1.append(go.Scatter(\n",
    "            x=df[df[\"Stock\"] == stock][\"Date\"],\n",
    "            y=df[df[\"Stock\"] == stock][\"High\"],\n",
    "            mode='lines', opacity=0.7,\n",
    "            name=f'High {dropdown[stock]}', textposition='bottom center'))\n",
    "\n",
    "        trace2.append(go.Scatter(\n",
    "            x=df[df[\"Stock\"] == stock][\"Date\"],\n",
    "            y=df[df[\"Stock\"] == stock][\"Low\"],\n",
    "            mode='lines', opacity=0.6,\n",
    "            name=f'Low {dropdown[stock]}', textposition='bottom center'))\n",
    "\n",
    "    data = [val for sublist in [trace1, trace2] for val in sublist]\n",
    "    figure = {\n",
    "        'data': data,\n",
    "        'layout': go.Layout(\n",
    "            title=f\"High and Low Prices for {', '.join(dropdown[i] for i in selected_dropdown)}\",\n",
    "            xaxis={\"title\": \"Date\", 'rangeslider': {'visible': True}, 'type': 'date'},\n",
    "            yaxis={\"title\": \"Price (USD)\"}\n",
    "        )\n",
    "    }\n",
    "    return figure\n",
    "\n",
    "# Callback for the volume graph\n",
    "@app.callback(Output('volume', 'figure'), [Input('my-dropdown2', 'value')])\n",
    "def update_volume(selected_dropdown_value):\n",
    "    dropdown = {\"TSLA\": \"Tesla\", \"AAPL\": \"Apple\", \"FB\": \"Facebook\", \"MSFT\": \"Microsoft\"}\n",
    "    trace1 = []\n",
    "\n",
    "    for stock in selected_dropdown_value:\n",
    "        trace1.append(go.Scatter(\n",
    "            x=df[df[\"Stock\"] == stock][\"Date\"],\n",
    "            y=df[df[\"Stock\"] == stock][\"Volume\"],\n",
    "            mode='lines', opacity=0.7,\n",
    "            name=f'Volume {dropdown[stock]}'\n",
    "        ))\n",
    "\n",
    "    figure = {\n",
    "        'data': trace1,\n",
    "        'layout': go.Layout(\n",
    "            title=f\"Market Volume for {', '.join(dropdown[i] for i in selected_dropdown_value)}\",\n",
    "            xaxis={\"title\": \"Date\", 'rangeslider': {'visible': True}, 'type': 'date'},\n",
    "            yaxis={\"title\": \"Transactions Volume\"}\n",
    "        )\n",
    "    }\n",
    "    return figure\n"
   ]
  },
  {
   "cell_type": "code",
   "execution_count": 21,
   "id": "0666c603-673f-446e-b94d-edf06124e19e",
   "metadata": {},
   "outputs": [
    {
     "data": {
      "text/html": [
       "\n",
       "        <iframe\n",
       "            width=\"100%\"\n",
       "            height=\"650\"\n",
       "            src=\"http://127.0.0.1:8050/\"\n",
       "            frameborder=\"0\"\n",
       "            allowfullscreen\n",
       "            \n",
       "        ></iframe>\n",
       "        "
      ],
      "text/plain": [
       "<IPython.lib.display.IFrame at 0x22ed3c84ce0>"
      ]
     },
     "metadata": {},
     "output_type": "display_data"
    }
   ],
   "source": [
    "if __name__ == '__main__':\n",
    "    app.run_server(debug=True, dev_tools_hot_reload=False)\n"
   ]
  },
  {
   "cell_type": "code",
   "execution_count": null,
   "id": "63a89d2f-590d-4100-9a68-a622a49f91eb",
   "metadata": {},
   "outputs": [],
   "source": []
  }
 ],
 "metadata": {
  "kernelspec": {
   "display_name": "Python 3 (ipykernel)",
   "language": "python",
   "name": "python3"
  },
  "language_info": {
   "codemirror_mode": {
    "name": "ipython",
    "version": 3
   },
   "file_extension": ".py",
   "mimetype": "text/x-python",
   "name": "python",
   "nbconvert_exporter": "python",
   "pygments_lexer": "ipython3",
   "version": "3.12.2"
  }
 },
 "nbformat": 4,
 "nbformat_minor": 5
}
